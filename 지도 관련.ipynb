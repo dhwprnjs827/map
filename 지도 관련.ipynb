{
 "cells": [
  {
   "cell_type": "code",
   "execution_count": 1,
   "metadata": {},
   "outputs": [],
   "source": [
    "from osgeo import gdal\n",
    "from pyproj import Proj, Transformer,transform\n",
    "import pandas as pd\n",
    "import folium\n",
    "import heapq"
   ]
  },
  {
   "cell_type": "markdown",
   "metadata": {},
   "source": [
    "# 구글 지도 >> 네이버 지도 변형 간단한코드"
   ]
  },
  {
   "cell_type": "code",
   "execution_count": 2,
   "metadata": {},
   "outputs": [],
   "source": [
    "proj_NAVER=Proj('epsg:3857')\n",
    "\n",
    "proj_WGS1984=Proj(\"epsg:4326\")\n",
    "\n",
    "\n",
    "def create_google_map(x, y, z):\n",
    "    lat=float(x)\n",
    "    lon=float(y)\n",
    "    mag=int(z)\n",
    "    return \"https://google.co.kr/maps/@{},{},{}z\".format(lat,lon,mag)\n",
    "\n",
    "\n",
    "def create_naver_map(x,y,z):\n",
    "    x, y = transform(proj_WGS1984, proj_NAVER, x, y)\n",
    "    return f\"http://map.naver.com/v5/search?c={x},{y},{z},0,0,0,dh\""
   ]
  },
  {
   "cell_type": "markdown",
   "metadata": {},
   "source": [
    "0,0,0\n",
    "\n",
    "> 세번쨰 : 0,1,2,3 으로 입력이 가능한데 \n",
    ">> 0: 일반 어플리케이션 지도  \n",
    "1: 위성지도\n",
    "2: 위성+ 건물명,도로명, 번지  \n",
    "3: 지형지도 + 건물명, 도로명, 번지  "
   ]
  },
  {
   "cell_type": "code",
   "execution_count": 3,
   "metadata": {
    "scrolled": true
   },
   "outputs": [
    {
     "name": "stderr",
     "output_type": "stream",
     "text": [
      "c:\\users\\32442\\appdata\\local\\programs\\python\\python37\\lib\\site-packages\\ipykernel_launcher.py:14: DeprecationWarning: This function is deprecated. See: https://pyproj4.github.io/pyproj/stable/gotchas.html#upgrading-to-pyproj-2-from-pyproj-1\n",
      "  \n"
     ]
    },
    {
     "data": {
      "text/plain": [
       "'http://map.naver.com/v5/search?c=14143718.051567208,4473425.32212616,20,0,0,0,dh'"
      ]
     },
     "execution_count": 3,
     "metadata": {},
     "output_type": "execute_result"
    }
   ],
   "source": [
    "create_naver_map(37.2458113,127.055181,20)"
   ]
  },
  {
   "cell_type": "code",
   "execution_count": 4,
   "metadata": {},
   "outputs": [],
   "source": [
    "queue=[]\n",
    "\n",
    "heapq.heappush(queue,[2,'a'])\n",
    "heapq.heappush(queue,[5,'b'])\n",
    "heapq.heappush(queue,[3,'c'])\n",
    "heapq.heappush(queue,[1,'s'])"
   ]
  },
  {
   "cell_type": "code",
   "execution_count": 2,
   "metadata": {},
   "outputs": [
    {
     "name": "stdout",
     "output_type": "stream",
     "text": [
      "{'A': 0, 'B': 6, 'C': 1, 'D': 2, 'E': 5, 'F': 6}\n"
     ]
    }
   ],
   "source": [
    "import heapq  # 우선순위 큐 구현을 위함\n",
    "\n",
    "\n",
    "graph = {\n",
    "    'A': {'B': 8, 'C': 1, 'D': 2},\n",
    "    'B': {},\n",
    "    'C': {'B': 5, 'D': 2},\n",
    "    'D': {'E': 3, 'F': 5},\n",
    "    'E': {'F': 1},\n",
    "    'F': {'A': 5}\n",
    "}\n",
    "\n",
    "def dijkstra(graph, start):\n",
    "    distances = {node: float('inf') for node in graph}  # start로 부터의 거리 값을 저장하기 위함\n",
    "    distances[start] = 0  # 시작 값은 0이어야 함\n",
    "    queue = []\n",
    "    heapq.heappush(queue, [distances[start], start])  # 시작 노드부터 탐색 시작 하기 위함.\n",
    "\n",
    "    while queue:  # queue에 남아 있는 노드가 없으면 끝\n",
    "        current_distance, current_destination = heapq.heappop(queue)  # 탐색 할 노드, 거리를 가져옴.\n",
    "\n",
    "        if distances[current_destination] < current_distance:  # 기존에 있는 거리보다 길다면, 볼 필요도 없음\n",
    "            continue\n",
    "    \n",
    "        for new_destination, new_distance in graph[current_destination].items():\n",
    "            distance = current_distance + new_distance  # 해당 노드를 거쳐 갈 때 거리\n",
    "            if distance < distances[new_destination]:  # 알고 있는 거리 보다 작으면 갱신\n",
    "                distances[new_destination] = distance\n",
    "                heapq.heappush(queue, [distance, new_destination])  # 다음 인접 거리를 계산 하기 위해 큐에 삽입\n",
    "    \n",
    "    return distances\n",
    "\n",
    "\n",
    "\n",
    "print(dijkstra(graph, 'A'))"
   ]
  },
  {
   "cell_type": "code",
   "execution_count": 40,
   "metadata": {},
   "outputs": [],
   "source": [
    "distances={node: float('inf') for node in graph}\n",
    "distances['A']=0\n",
    "queue=[] # 거리를 계산하는 리스트\n",
    "\n",
    "heapq.heappush(queue,[distances['A'],'A']) #  queue 리스트에 거리와 노드 추가"
   ]
  },
  {
   "cell_type": "code",
   "execution_count": 41,
   "metadata": {},
   "outputs": [
    {
     "data": {
      "text/plain": [
       "{'A': {'B': 8, 'C': 1, 'D': 2},\n",
       " 'B': {},\n",
       " 'C': {'B': 5, 'D': 2},\n",
       " 'D': {'E': 3, 'F': 5},\n",
       " 'E': {'F': 1},\n",
       " 'F': {'A': 5}}"
      ]
     },
     "execution_count": 41,
     "metadata": {},
     "output_type": "execute_result"
    }
   ],
   "source": [
    "graph"
   ]
  },
  {
   "cell_type": "code",
   "execution_count": 42,
   "metadata": {},
   "outputs": [
    {
     "name": "stdout",
     "output_type": "stream",
     "text": [
      "A\n",
      "{'A': 0, 'B': 8, 'C': inf, 'D': inf, 'E': inf, 'F': inf}\n",
      "{'A': 0, 'B': 8, 'C': 1, 'D': inf, 'E': inf, 'F': inf}\n",
      "{'A': 0, 'B': 8, 'C': 1, 'D': 2, 'E': inf, 'F': inf}\n",
      "C\n",
      "{'A': 0, 'B': 6, 'C': 1, 'D': 2, 'E': inf, 'F': inf}\n",
      "{'A': 0, 'B': 6, 'C': 1, 'D': 2, 'E': inf, 'F': inf}\n",
      "D\n",
      "{'A': 0, 'B': 6, 'C': 1, 'D': 2, 'E': 5, 'F': inf}\n",
      "{'A': 0, 'B': 6, 'C': 1, 'D': 2, 'E': 5, 'F': 7}\n",
      "E\n",
      "{'A': 0, 'B': 6, 'C': 1, 'D': 2, 'E': 5, 'F': 6}\n",
      "B\n",
      "F\n",
      "{'A': 0, 'B': 6, 'C': 1, 'D': 2, 'E': 5, 'F': 6}\n",
      "F\n",
      "B\n"
     ]
    }
   ],
   "source": [
    "while queue:\n",
    "    current_distance,current_destination=heapq.heappop(queue) # 거리와 노드 를 각각의 이름에 저장후 list에서 제거\n",
    "    print(current_destination)\n",
    "    \n",
    "    if distances[current_destination] < current_distance:\n",
    "        #  distances[current_destination] 가 graph 안에 있는 current_distance 보다 작냐\n",
    "        continue\n",
    "    \n",
    "    else:\n",
    "        for new_destination,new_distance in graph[current_destination].items():\n",
    "            # graph 에 있는 요소의 키값과 value 값을 튜플 형태로 호출\n",
    "            distance=current_distance+new_distance\n",
    "            if distance < distances[new_destination]:\n",
    "                distances[new_destination]= distance\n",
    "                heapq.heappush(queue,[distance,new_destination])\n",
    "            print(distances)"
   ]
  },
  {
   "cell_type": "code",
   "execution_count": null,
   "metadata": {},
   "outputs": [],
   "source": []
  }
 ],
 "metadata": {
  "kernelspec": {
   "display_name": "Python 3",
   "language": "python",
   "name": "python3"
  },
  "language_info": {
   "codemirror_mode": {
    "name": "ipython",
    "version": 3
   },
   "file_extension": ".py",
   "mimetype": "text/x-python",
   "name": "python",
   "nbconvert_exporter": "python",
   "pygments_lexer": "ipython3",
   "version": "3.7.8"
  }
 },
 "nbformat": 4,
 "nbformat_minor": 4
}
